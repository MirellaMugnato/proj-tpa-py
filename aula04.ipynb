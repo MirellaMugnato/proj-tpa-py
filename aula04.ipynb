{
 "cells": [
  {
   "cell_type": "markdown",
   "metadata": {},
   "source": [
    "# Aula 04 - Introdução a Funções e Funções Lambda"
   ]
  },
  {
   "cell_type": "markdown",
   "metadata": {},
   "source": [
    "> Uma função é uma ação que é realizada através de parâmetros de entrada ou parâmetros vazios retornam uma rotina (código preestabelecido)"
   ]
  },
  {
   "cell_type": "code",
   "execution_count": 2,
   "metadata": {},
   "outputs": [],
   "source": [
    "def somar():\n",
    "    x = 2\n",
    "    y = 2\n",
    "\n",
    "    res = x + y\n",
    "    print(res)"
   ]
  },
  {
   "cell_type": "code",
   "execution_count": 3,
   "metadata": {},
   "outputs": [
    {
     "name": "stdout",
     "output_type": "stream",
     "text": [
      "4\n"
     ]
    }
   ],
   "source": [
    "somar()"
   ]
  },
  {
   "cell_type": "code",
   "execution_count": 6,
   "metadata": {},
   "outputs": [],
   "source": [
    "def adicao(x, y):\n",
    "    res = x + y\n",
    "    print(res)"
   ]
  },
  {
   "cell_type": "code",
   "execution_count": 7,
   "metadata": {},
   "outputs": [
    {
     "name": "stdout",
     "output_type": "stream",
     "text": [
      "4\n"
     ]
    }
   ],
   "source": [
    "adicao(2, 2)"
   ]
  },
  {
   "cell_type": "markdown",
   "metadata": {},
   "source": [
    "## Exercício"
   ]
  },
  {
   "cell_type": "code",
   "execution_count": 8,
   "metadata": {},
   "outputs": [],
   "source": [
    "def divisao(x, y):\n",
    "    res = x / y\n",
    "    print(res)"
   ]
  },
  {
   "cell_type": "code",
   "execution_count": 17,
   "metadata": {},
   "outputs": [],
   "source": [
    "def subtracao(x, y):\n",
    "    res = x - y\n",
    "    print(res)\n",
    "    print(type(res))"
   ]
  },
  {
   "cell_type": "code",
   "execution_count": 18,
   "metadata": {},
   "outputs": [
    {
     "name": "stdout",
     "output_type": "stream",
     "text": [
      "2.0\n",
      "-1\n",
      "<class 'int'>\n"
     ]
    }
   ],
   "source": [
    "divisao(10, 5)\n",
    "subtracao(5, 6)"
   ]
  },
  {
   "cell_type": "markdown",
   "metadata": {},
   "source": [
    "# Funções Lambda"
   ]
  },
  {
   "cell_type": "markdown",
   "metadata": {},
   "source": [
    "> Uma função  lambda é uma forma rápida de criar funções utilizando menos recursos e quantidade de comandos"
   ]
  },
  {
   "cell_type": "code",
   "execution_count": 19,
   "metadata": {},
   "outputs": [],
   "source": [
    "menos = lambda x, y : x - y"
   ]
  },
  {
   "cell_type": "code",
   "execution_count": 20,
   "metadata": {},
   "outputs": [
    {
     "name": "stdout",
     "output_type": "stream",
     "text": [
      "3\n"
     ]
    }
   ],
   "source": [
    "print(menos(5,2))"
   ]
  },
  {
   "cell_type": "markdown",
   "metadata": {},
   "source": [
    "## Exercício"
   ]
  },
  {
   "cell_type": "markdown",
   "metadata": {},
   "source": [
    "> Crie um código chamado baskhara, ele deverá ter uma rotina que ao ser criada retornará x' e x\". Os valores de entrada deverão ser os de delta (a,b,c e x). Se o usuário escolher 1 deverá retornar x' e se for 2 deverá retornar x\". Insira todas as possibilidades e as regras de baskhara"
   ]
  },
  {
   "cell_type": "code",
   "execution_count": 24,
   "metadata": {},
   "outputs": [],
   "source": [
    "import math\n",
    "def baskhara (a,b,c,x):\n",
    "    if(a==0):\n",
    "        res = 'Impossível calcular'\n",
    "    else:\n",
    "        delta = (b*b) - (4*a*c)\n",
    "        if(delta<0):\n",
    "            res = 'Impossível calcular'\n",
    "        else:\n",
    "            if(x==1):\n",
    "                res = (-b+math.sqrt(delta)) / (2*a)\n",
    "            if(x==2):  \n",
    "                res = (-b-math.sqrt(delta)) / (2*a)\n",
    "    return res                      "
   ]
  },
  {
   "cell_type": "code",
   "execution_count": 25,
   "metadata": {},
   "outputs": [
    {
     "data": {
      "text/plain": [
       "-3.0"
      ]
     },
     "execution_count": 25,
     "metadata": {},
     "output_type": "execute_result"
    }
   ],
   "source": [
    "baskhara(2,8,6,2)"
   ]
  },
  {
   "cell_type": "markdown",
   "metadata": {},
   "source": [
    "# Funções Map"
   ]
  },
  {
   "cell_type": "code",
   "execution_count": 26,
   "metadata": {},
   "outputs": [
    {
     "name": "stdout",
     "output_type": "stream",
     "text": [
      "[24.84]\n",
      "[24.84, 31.06]\n",
      "[24.84, 31.06, 46.58]\n",
      "[24.84, 31.06, 46.58, 62.11]\n",
      "[24.84, 31.06, 46.58, 62.11, 124.22]\n"
     ]
    }
   ],
   "source": [
    "kph = [40,50,75,100,200]\n",
    "mph = []\n",
    "for i in kph:\n",
    "    mph.append(round(i/1.61,2))\n",
    "    print(mph)"
   ]
  },
  {
   "cell_type": "code",
   "execution_count": 27,
   "metadata": {},
   "outputs": [
    {
     "name": "stdout",
     "output_type": "stream",
     "text": [
      "[24.84, 31.06, 46.58, 62.11, 124.22]\n"
     ]
    }
   ],
   "source": [
    "mph2 = list(map(lambda x: round(x/1.61,2),kph))\n",
    "print(mph2)"
   ]
  },
  {
   "cell_type": "markdown",
   "metadata": {},
   "source": [
    "## Exercício - Transformar °C em °F"
   ]
  },
  {
   "cell_type": "code",
   "execution_count": 28,
   "metadata": {},
   "outputs": [
    {
     "name": "stdout",
     "output_type": "stream",
     "text": [
      "[50]\n",
      "[50, 59]\n",
      "[50, 59, 68]\n",
      "[50, 59, 68, 77]\n",
      "[50, 59, 68, 77, 86]\n"
     ]
    }
   ],
   "source": [
    "c = [10,15,20,25,30]\n",
    "f = []\n",
    "for i in c:\n",
    "    f.append(round(i*1.8+32))\n",
    "    print(f) \n"
   ]
  }
 ],
 "metadata": {
  "kernelspec": {
   "display_name": "Python 3",
   "language": "python",
   "name": "python3"
  },
  "language_info": {
   "codemirror_mode": {
    "name": "ipython",
    "version": 3
   },
   "file_extension": ".py",
   "mimetype": "text/x-python",
   "name": "python",
   "nbconvert_exporter": "python",
   "pygments_lexer": "ipython3",
   "version": "3.12.2"
  }
 },
 "nbformat": 4,
 "nbformat_minor": 2
}
