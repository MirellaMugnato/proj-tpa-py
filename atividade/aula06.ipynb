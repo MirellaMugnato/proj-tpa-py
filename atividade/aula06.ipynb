{
 "cells": [
  {
   "cell_type": "markdown",
   "metadata": {},
   "source": [
    "# Exercício 06 - Tuplas e Dicionários"
   ]
  },
  {
   "cell_type": "markdown",
   "metadata": {},
   "source": [
    "> Crie 3 dicionarios: matricula, aluno e diciplina.\n",
    ">> * A matricula terá código da matricula, data_inscrição e curso; \n",
    ">> * O Aluno terá resgistro e nome;\n",
    ">> * A Diciplina terá registro e professor. \n",
    "\n",
    "Ao final adicione os três dicionarios em uma tupla chamada escola."
   ]
  },
  {
   "cell_type": "code",
   "execution_count": 6,
   "metadata": {},
   "outputs": [
    {
     "name": "stdout",
     "output_type": "stream",
     "text": [
      "dict_values([888888, '10/01/2024', 'Desenvolvimeno de Sistemas'])\n",
      "dict_values([888888, 'Mirella'])\n",
      "dict_values(['TPA', 'Gustavo'])\n"
     ]
    }
   ],
   "source": [
    "matricula = {\n",
    "    'codigo' : 888888,\n",
    "    'data_inscricao' : '10/01/2024',\n",
    "    'curso' : 'Desenvolvimeno de Sistemas'\n",
    "}\n",
    "aluno = {\n",
    "    'registro' : 888888,\n",
    "    'nome' : 'Mirella'\n",
    "}\n",
    "diciplina = {\n",
    "    'registro' : 'TPA',\n",
    "    'Professor' : 'Gustavo'\n",
    "}\n",
    "escola =(matricula,aluno,diciplina)\n",
    "for x in escola:\n",
    "    print(x.values())"
   ]
  },
  {
   "cell_type": "markdown",
   "metadata": {},
   "source": [
    "> Crie três dicionarios para as seguites tabelas: vendendor, produto e venda. \n",
    ">> * O vndedor terá registro, nome e admissão;\n",
    ">> * O produo terá o ID, nome, fabricante; \n",
    ">> * A venda terá reg_vendedor, id_produto e valor. \n",
    "\n",
    "Após a criação dos dicionários, adicionem a uma tupla chamada casas_baiano"
   ]
  },
  {
   "cell_type": "code",
   "execution_count": 7,
   "metadata": {},
   "outputs": [
    {
     "name": "stdout",
     "output_type": "stream",
     "text": [
      "dict_values(['vendedor de móveis', 'João', '11/02/2020'])\n",
      "dict_values(['111111', 'Iphone 15 Pro Max', 'Apple'])\n",
      "dict_values(['vendedor de móveis', '000000', 'R$8.500,00'])\n"
     ]
    }
   ],
   "source": [
    "vendedor = {\n",
    "    'registro' : 'vendedor de móveis',\n",
    "    'nome' : 'João',\n",
    "    'admissão' : '11/02/2020'\n",
    "}\n",
    "\n",
    "produto = {\n",
    "    'ID' : '111111',\n",
    "    'nome' : 'Iphone 15 Pro Max',\n",
    "    'fabricante' : 'Apple'\n",
    "}\n",
    "\n",
    "venda = {\n",
    "    'reg_vendedor' : 'vendedor de móveis',\n",
    "    'id_produto' : '000000',\n",
    "    'valor' : 'R$8.500,00'\n",
    "}\n",
    "\n",
    "casas_baiano =(vendedor, produto, venda)\n",
    "for x in casas_baiano:\n",
    "    print(x.values())"
   ]
  }
 ],
 "metadata": {
  "kernelspec": {
   "display_name": "Python 3",
   "language": "python",
   "name": "python3"
  },
  "language_info": {
   "codemirror_mode": {
    "name": "ipython",
    "version": 3
   },
   "file_extension": ".py",
   "mimetype": "text/x-python",
   "name": "python",
   "nbconvert_exporter": "python",
   "pygments_lexer": "ipython3",
   "version": "3.12.2"
  }
 },
 "nbformat": 4,
 "nbformat_minor": 2
}
