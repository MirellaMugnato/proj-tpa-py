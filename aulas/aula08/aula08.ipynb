{
 "cells": [
  {
   "cell_type": "markdown",
   "metadata": {},
   "source": [
    "# Aula 08 - Introdução a estrutura de dados"
   ]
  },
  {
   "cell_type": "markdown",
   "metadata": {},
   "source": [
    "## Fila(FIFO)"
   ]
  },
  {
   "cell_type": "code",
   "execution_count": 9,
   "metadata": {},
   "outputs": [],
   "source": [
    "class Fila:\n",
    "    def __init__(self):\n",
    "        self.fila=[]\n",
    "\n",
    "    def enfileirar(self, item):\n",
    "        self.fila.append(item)\n",
    "        print(f\"{item} foi adicionado(a) à fila\")\n",
    "\n",
    "    def vazio(self):\n",
    "        return len(self.fila) == 0 \n",
    "\n",
    "    def desenfileirar(self):\n",
    "        if not self.vazio():\n",
    "            item = self.fila.pop(0)\n",
    "            print(f\"{item} foi removido(a) da lista\")\n",
    "            return item\n",
    "        else:\n",
    "            print(\"O caixa está livre\")\n",
    "            return None\n",
    "\n",
    "    def tamanho(self):\n",
    "        if len(self.fila) == 0:\n",
    "            print(\"O caixa está livre\")\n",
    "        else:\n",
    "            print(f\"Tem {len(self.fila)} pessoas na fila\")    "
   ]
  },
  {
   "cell_type": "markdown",
   "metadata": {},
   "source": [
    "# Atividade 1 "
   ]
  },
  {
   "cell_type": "markdown",
   "metadata": {},
   "source": [
    ">> João está no mercado entre Vó Maria e Caique que chegou logo atrás para ir ao caixa. Tendo como fila estrutura de dados, adicione os 3 à fila e atenda a Vó Maria, e depois mostre o tamanho da dela"
   ]
  },
  {
   "cell_type": "code",
   "execution_count": 10,
   "metadata": {},
   "outputs": [
    {
     "name": "stdout",
     "output_type": "stream",
     "text": [
      "Vó Maria foi adicionado(a) à fila\n",
      "Caique foi adicionado(a) à fila\n",
      "João foi adicionado(a) à fila\n",
      "Vó Maria foi removido(a) da lista\n",
      "Tem 2 pessoas na fila\n"
     ]
    }
   ],
   "source": [
    "fila = Fila()\n",
    "fila.enfileirar(\"Vó Maria\")\n",
    "fila.enfileirar(\"Caique\")\n",
    "fila.enfileirar(\"João\")\n",
    "fila.desenfileirar()\n",
    "fila.tamanho()"
   ]
  },
  {
   "cell_type": "code",
   "execution_count": 6,
   "metadata": {},
   "outputs": [
    {
     "name": "stdout",
     "output_type": "stream",
     "text": [
      "Caique foi removido da lista\n",
      "João foi removido da lista\n",
      "O caixa está livre\n"
     ]
    }
   ],
   "source": [
    "fila.desenfileirar()\n",
    "fila.desenfileirar()\n",
    "fila.tamanho()"
   ]
  },
  {
   "cell_type": "markdown",
   "metadata": {},
   "source": [
    "# FIFO utilizando Collections deque"
   ]
  },
  {
   "cell_type": "code",
   "execution_count": 12,
   "metadata": {},
   "outputs": [],
   "source": [
    "from collections import deque\n",
    "\n",
    "class Farmacia:\n",
    "    def __init__(self):\n",
    "        self.farmacia = deque()\n",
    "\n",
    "    def aguardar(self, nome):\n",
    "        self.farmacia.append(nome)\n",
    "        print(f\"{nome} está na fila\")\n",
    "    \n",
    "    def vazio(self):\n",
    "        return len(self.farmacia) == 0\n",
    "    \n",
    "    def atender(self):\n",
    "        if not self.vazio():\n",
    "            nome = self.farmacia.popleft()\n",
    "            print(f\"{nome} foi atendido(a)\")\n",
    "        else:\n",
    "            print(\"O(A) atendente está livre\")\n",
    "\n",
    "    def tamanho(self):\n",
    "        if len(self.farmacia) == 0:\n",
    "            print(f\"Tem {len(self.farmacia)} pessoas na fila\")        "
   ]
  },
  {
   "cell_type": "markdown",
   "metadata": {},
   "source": [
    "# Pilhas (FIFO)"
   ]
  },
  {
   "cell_type": "code",
   "execution_count": 16,
   "metadata": {},
   "outputs": [],
   "source": [
    "class editor:\n",
    "    def __init__(self):\n",
    "        self.texto = \"\"\n",
    "        self.historico = []\n",
    "\n",
    "    def escrever(self, texto):\n",
    "        self.historico.append(self.texto)\n",
    "        self.texto += texto\n",
    "\n",
    "    def desfazer(self):\n",
    "        if self.historico:\n",
    "            self.texto = self.historico.pop()\n",
    "        else:\n",
    "            self.texto = \"\"\n",
    "\n",
    "    def visualizar(self):\n",
    "        print(self.texto)                "
   ]
  },
  {
   "cell_type": "markdown",
   "metadata": {},
   "source": [
    "## Atividade 3"
   ]
  },
  {
   "cell_type": "code",
   "execution_count": null,
   "metadata": {},
   "outputs": [],
   "source": []
  }
 ],
 "metadata": {
  "kernelspec": {
   "display_name": "Python 3",
   "language": "python",
   "name": "python3"
  },
  "language_info": {
   "codemirror_mode": {
    "name": "ipython",
    "version": 3
   },
   "file_extension": ".py",
   "mimetype": "text/x-python",
   "name": "python",
   "nbconvert_exporter": "python",
   "pygments_lexer": "ipython3",
   "version": "3.12.2"
  }
 },
 "nbformat": 4,
 "nbformat_minor": 2
}
