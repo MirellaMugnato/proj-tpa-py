{
 "cells": [
  {
   "cell_type": "markdown",
   "metadata": {},
   "source": [
    "# Aula 09 - Introdução às Tabela Hash"
   ]
  },
  {
   "cell_type": "markdown",
   "metadata": {},
   "source": [
    "> Tabelas Hash são estruturas de dados comum para localização de grandes quantidades de dados. Devido sua eficiência na busca, inserção e remoção de elementos utiliza a indexação dos dados como nos dicionários já vistos em aula."
   ]
  },
  {
   "cell_type": "markdown",
   "metadata": {},
   "source": [
    "Aplicações:\n",
    "1. Banco de dados\n",
    "2. Cache de memória\n",
    "3. Compiladores\n",
    "4. Algoritmos de busca\n",
    "5. Big Data"
   ]
  },
  {
   "cell_type": "code",
   "execution_count": 1,
   "metadata": {},
   "outputs": [
    {
     "ename": "NameError",
     "evalue": "name 'hashTable' is not defined",
     "output_type": "error",
     "traceback": [
      "\u001b[1;31m---------------------------------------------------------------------------\u001b[0m",
      "\u001b[1;31mNameError\u001b[0m                                 Traceback (most recent call last)",
      "Cell \u001b[1;32mIn[1], line 1\u001b[0m\n\u001b[1;32m----> 1\u001b[0m \u001b[38;5;28;43;01mclass\u001b[39;49;00m\u001b[43m \u001b[49m\u001b[38;5;21;43;01mhashTable\u001b[39;49;00m\u001b[43m:\u001b[49m\n\u001b[0;32m      2\u001b[0m \u001b[43m    \u001b[49m\u001b[38;5;66;43;03m# Construtor da tabela hash\u001b[39;49;00m\n\u001b[0;32m      3\u001b[0m \u001b[43m    \u001b[49m\u001b[38;5;28;43;01mdef\u001b[39;49;00m\u001b[43m \u001b[49m\u001b[38;5;21;43m__init__\u001b[39;49m\u001b[43m(\u001b[49m\u001b[38;5;28;43mself\u001b[39;49m\u001b[43m,\u001b[49m\u001b[43m \u001b[49m\u001b[43msize\u001b[49m\u001b[38;5;241;43m=\u001b[39;49m\u001b[38;5;241;43m10\u001b[39;49m\u001b[43m)\u001b[49m\u001b[43m:\u001b[49m\n\u001b[0;32m      4\u001b[0m \u001b[43m      \u001b[49m\u001b[38;5;28;43mself\u001b[39;49m\u001b[38;5;241;43m.\u001b[39;49m\u001b[43msize\u001b[49m\u001b[43m \u001b[49m\u001b[38;5;241;43m=\u001b[39;49m\u001b[43m \u001b[49m\u001b[43msize\u001b[49m\u001b[43m;\u001b[49m\n",
      "Cell \u001b[1;32mIn[1], line 29\u001b[0m, in \u001b[0;36mhashTable\u001b[1;34m()\u001b[0m\n\u001b[0;32m     26\u001b[0m         \u001b[38;5;28;01mreturn\u001b[39;00m \u001b[38;5;28;01mFalse\u001b[39;00m\n\u001b[0;32m     28\u001b[0m \u001b[38;5;28;01mif\u001b[39;00m \u001b[38;5;18m__name__\u001b[39m \u001b[38;5;241m==\u001b[39m \u001b[38;5;124m\"\u001b[39m\u001b[38;5;124m__main__\u001b[39m\u001b[38;5;124m\"\u001b[39m:\n\u001b[1;32m---> 29\u001b[0m     biblioteca \u001b[38;5;241m=\u001b[39m \u001b[43mhashTable\u001b[49m()\n\u001b[0;32m     30\u001b[0m     biblioteca\u001b[38;5;241m.\u001b[39minsert(\u001b[38;5;124m\"\u001b[39m\u001b[38;5;124mA\u001b[39m\u001b[38;5;124m\"\u001b[39m,\u001b[38;5;124m\"\u001b[39m\u001b[38;5;124mAlice no País das Maravilhas\u001b[39m\u001b[38;5;124m\"\u001b[39m)\n\u001b[0;32m     31\u001b[0m     biblioteca\u001b[38;5;241m.\u001b[39minsert(\u001b[38;5;124m\"\u001b[39m\u001b[38;5;124mM\u001b[39m\u001b[38;5;124m\"\u001b[39m,\u001b[38;5;124m\"\u001b[39m\u001b[38;5;124mMarcelino Pão e Vinho\u001b[39m\u001b[38;5;124m\"\u001b[39m)\n",
      "\u001b[1;31mNameError\u001b[0m: name 'hashTable' is not defined"
     ]
    }
   ],
   "source": [
    "class hashTable:\n",
    "    # Construtor da tabela hash\n",
    "    def __init__(self, size=10):\n",
    "      self.size = size;\n",
    "      self.table = [[] for _ in range(self.size)]\n",
    "\n",
    "    # Método que calcula o índice da tabela através da chave\n",
    "    def hash(self, key):\n",
    "        return hash(key) % self.size\n",
    "\n",
    "    def insert(self, key, value):\n",
    "        index = self._hash(key)\n",
    "        for y in self.table[index]:\n",
    "            if y[0] == key:\n",
    "                y[1] = value\n",
    "                return\n",
    "        self.table[index].append([key, value])\n",
    "\n",
    "    # Método de busca de valor através da chave\n",
    "    def get(self, key):\n",
    "        index = self._hash(key)\n",
    "        for i, y in enumerate(self.table(index)):\n",
    "            if y[0] == key:\n",
    "                return y[1]\n",
    "            return None\n",
    "\n",
    "    if __name__ == \"__main__\":\n",
    "        biblioteca = hashTable()\n",
    "        biblioteca.insert(\"A\",\"Alice no País das Maravilhas\")\n",
    "        biblioteca.insert(\"M\",\"Marcelino Pão e Vinho\")\n",
    "        biblioteca.insert(\"O\",\"O Código Da Vinci\")\n",
    "\n",
    "        print(biblioteca.get(\"A\"))\n",
    "        print(biblioteca.get(\"B\"))\n",
    "\n",
    "        biblioteca.remove(\"A\")\n",
    "        print(biblioteca.get(\"A\"))\n"
   ]
  },
  {
   "cell_type": "markdown",
   "metadata": {},
   "source": [
    "## Exercício 1"
   ]
  },
  {
   "cell_type": "markdown",
   "metadata": {},
   "source": [
    "> Crie uma prateleira de mercado onde os produtos seram organizados por numeração e nome onde:\n",
    "0. Frios\n",
    "1. Limpeza\n",
    "2. Vegetais\n",
    "3. Cereais\n",
    "4. Bebidas\n",
    "5. Padaria\n",
    "6. Laticínios\n",
    "7. Açougue\n",
    "8. Hortaliças\n",
    "9. Bebidas Alcoólicas"
   ]
  },
  {
   "cell_type": "code",
   "execution_count": null,
   "metadata": {},
   "outputs": [],
   "source": []
  }
 ],
 "metadata": {
  "kernelspec": {
   "display_name": "Python 3",
   "language": "python",
   "name": "python3"
  },
  "language_info": {
   "codemirror_mode": {
    "name": "ipython",
    "version": 3
   },
   "file_extension": ".py",
   "mimetype": "text/x-python",
   "name": "python",
   "nbconvert_exporter": "python",
   "pygments_lexer": "ipython3",
   "version": "3.12.2"
  }
 },
 "nbformat": 4,
 "nbformat_minor": 2
}
